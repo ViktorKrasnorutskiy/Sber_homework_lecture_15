{
 "cells": [
  {
   "cell_type": "markdown",
   "metadata": {},
   "source": [
    "Написать на PyTorch forward и backward полносвязного слоя без использования autograd\n",
    "\n",
    "Написать 1-2 адаптивных оптимизатора\n",
    "\n",
    "Решить задачу нахождения корней квадратного уравнения методом градиентного спуска"
   ]
  },
  {
   "cell_type": "markdown",
   "metadata": {},
   "source": [
    "### Реализация полносвязного слоя с forward и backward"
   ]
  },
  {
   "cell_type": "code",
   "execution_count": 1,
   "metadata": {},
   "outputs": [],
   "source": [
    "import pandas as pd\n",
    "import numpy as np\n",
    "\n",
    "import matplotlib.pyplot as plt\n",
    "\n",
    "import torch\n",
    "from torch import nn"
   ]
  },
  {
   "cell_type": "code",
   "execution_count": 2,
   "metadata": {},
   "outputs": [],
   "source": [
    "def sigmoid(z):\n",
    "    return 1./(1+np.exp(-z))\n",
    "\n",
    "def loss(t, y):\n",
    "    return np.sum((t-y)**2, keepdims=True).flatten()*0.5\n",
    "\n",
    "def diff_loss(t, y):\n",
    "    return np.sum(np.abs(y-t), kkepdims=True).flatten()"
   ]
  },
  {
   "cell_type": "code",
   "execution_count": 3,
   "metadata": {},
   "outputs": [],
   "source": [
    "class Layer:\n",
    "    \n",
    "    def __init__(self, n_inp, n_out, lr=0.1):\n",
    "        self.shape = (n_inp, n_out)\n",
    "        self.lr = lr\n",
    "        self.w = np.zeros(self.shape, dtype=np.float32)\n",
    "        self.b = np.zeros((1, n_out), dtype=np.float32)\n",
    "        self._clear_grads()\n",
    "    \n",
    "    def _clear_grads(self):\n",
    "        self.inp = None\n",
    "        self.activations = None\n",
    "        self.d_sigma = None\n",
    "        self.d_w = None\n",
    "        self.d_b = None\n",
    "    \n",
    "    def __call__(self, x):\n",
    "        print('asdfasd')\n",
    "        if len(x.shape) == 1:\n",
    "            x = x.reshape(1, -1)\n",
    "        self.inp = x\n",
    "        self.activations = sigmoid(x.dot(self.w) + self.b)\n",
    "        return self.activations\n",
    "    \n",
    "    def backward(self, grad):\n",
    "        self.d_sigma = self.activations * (1 - self.activations)\n",
    "        self.d_w = self.grad_w(grad)\n",
    "        self.d_b = self.grad_b(grad)\n",
    "        return self.grad_x(grad)\n",
    "    \n",
    "    def grad_w(self, grad):\n",
    "        return grad * self.inp.T * self.d_sigma\n",
    "    \n",
    "    def grad_b(self, grad):\n",
    "        return grad * self.d_sigma\n",
    "    \n",
    "    def grad_x(self, grad):\n",
    "        return self.w.dot(grad) * self.d_sigma\n",
    "    \n",
    "    def step(self):\n",
    "        self.w -= self.d_w * self.lr\n",
    "        self.b -= self.d_b * self.lr\n",
    "        self._clear_grads()\n",
    "        \n",
    "l1 = Layer(5, 1)"
   ]
  },
  {
   "cell_type": "markdown",
   "metadata": {},
   "source": [
    "### Пример оптимизатора из лекции:"
   ]
  },
  {
   "cell_type": "code",
   "execution_count": 4,
   "metadata": {},
   "outputs": [],
   "source": [
    "class SGDMomentum:\n",
    "    \n",
    "    def __init__(self, \n",
    "                 model, \n",
    "                 lr = 0.01, \n",
    "                 momentum = 0.9 ):\n",
    "        self.model = model\n",
    "        self.lr = lr\n",
    "        self.momentum = momentum\n",
    "        self.velocity = torch.zeros_like(model)\n",
    "        \n",
    "    def step(self, grad):\n",
    "        self.velocity = self.momentum * self.velocity - self.lr * grad\n",
    "        self.model += self.velocity\n",
    "        "
   ]
  },
  {
   "cell_type": "markdown",
   "metadata": {},
   "source": [
    "### Пример реализации оптимизатора Adam:\n",
    "\n",
    "https://medium.com/analytics-vidhya/a-complete-guide-to-adam-and-rmsprop-optimizer-75f4502d83be\n",
    "\n",
    "https://miro.medium.com/max/1400/1*FnZxx-ssZXdTzIuuf1NEzw.png"
   ]
  },
  {
   "cell_type": "code",
   "execution_count": 5,
   "metadata": {},
   "outputs": [],
   "source": [
    "class Adam:\n",
    "    \n",
    "    def __init__(self, model, a, \n",
    "                 m = 0,\n",
    "                 v = 0,\n",
    "                 t = 0,\n",
    "                 b1 = 0.9, \n",
    "                 b2 = 0.999, \n",
    "                 eps = 10 ** (-8) ):\n",
    "        self.model = model\n",
    "        self.a = a\n",
    "        self.m = m\n",
    "        self.v = v\n",
    "        self.t = t\n",
    "        self.b1 = b1\n",
    "        self.b2 = b2\n",
    "        self.eps = eps\n",
    "    \n",
    "    def step(self, grad):\n",
    "        self.t += 1\n",
    "        self.m = self.b1 * self.m + (1 - self.b1) * grad\n",
    "        self.v = self.b2 * self.v + (1 - self.b2) * grad\n",
    "        m_bias = self.m / (1-self.b1)\n",
    "        v_bias = self.v / (1-self.b2)\n",
    "        self.model -= (self.a * m_bias) / (v_bias**0.5 + self.eps)"
   ]
  },
  {
   "cell_type": "markdown",
   "metadata": {},
   "source": [
    "### Поиск пересечения с осью x линии y = 2*x - 7 методом градиентного спуска (пример из лекции):"
   ]
  },
  {
   "cell_type": "code",
   "execution_count": 6,
   "metadata": {},
   "outputs": [
    {
     "name": "stdout",
     "output_type": "stream",
     "text": [
      "tensor(3.5000)\n"
     ]
    }
   ],
   "source": [
    "y = lambda x: 2 * x - 7\n",
    "f = lambda x: (2 * x - 7)**2\n",
    "g = lambda x: 2*(2 * x - 7)\n",
    "x = np.arange(-10, 10, 0.1)\n",
    "\n",
    "def solver(init_x):\n",
    "    x = torch.tensor(init_x, dtype=torch.float32)\n",
    "    grad = g(x)\n",
    "    optim = Adam(x, 0.01)\n",
    "    for i in range(1000):\n",
    "        optim.step(grad)\n",
    "        grad = g(optim.model)\n",
    "    print(optim.model)  \n",
    "    \n",
    "solver(6)"
   ]
  },
  {
   "cell_type": "markdown",
   "metadata": {},
   "source": [
    "### Поиск квадратных корней уравнения методом градиентного спуска"
   ]
  },
  {
   "cell_type": "markdown",
   "metadata": {},
   "source": [
    "f(x) = -4x^2 + 4x + 1\n",
    "\n",
    "1 корень\n",
    "\n",
    "x1 = 0.5\n",
    "\n",
    "ветви направлены вниз"
   ]
  },
  {
   "cell_type": "code",
   "execution_count": 7,
   "metadata": {},
   "outputs": [
    {
     "name": "stdout",
     "output_type": "stream",
     "text": [
      "tensor(0.5000)\n"
     ]
    }
   ],
   "source": [
    "a, b, c = -4, 4, 1\n",
    "\n",
    "f = lambda x: (a*x**2 + b*x + c)\n",
    "g = lambda x: -(2*a*x + b) # знак \"-\" т.к. экстремум изначальной функции f в точке максимума а не минимума\n",
    "\n",
    "def solver(init_x):\n",
    "    x = torch.tensor(init_x, dtype=torch.float32)\n",
    "    grad = g(x)\n",
    "    optim = Adam(x, 0.01)\n",
    "    for i in range(1000):\n",
    "        optim.step(grad)\n",
    "        grad = g(optim.model)\n",
    "    print(optim.model)\n",
    "    \n",
    "solver(6)"
   ]
  },
  {
   "cell_type": "markdown",
   "metadata": {},
   "source": [
    "### пример 2\n",
    "\n",
    "f(x) = x^2 + 3x + 1\n",
    "\n",
    "2 корня\n",
    "\n",
    "x1 ≈ -2.6180 , x2 ≈ -0.38197\n",
    "\n",
    "ветви направлены вверх"
   ]
  },
  {
   "cell_type": "code",
   "execution_count": 8,
   "metadata": {},
   "outputs": [
    {
     "data": {
      "image/png": "[encoded data removed]",
      "text/plain": [
       "<Figure size 720x720 with 1 Axes>"
      ]
     },
     "metadata": {
      "needs_background": "light"
     },
     "output_type": "display_data"
    },
    {
     "name": "stdout",
     "output_type": "stream",
     "text": [
      "tensor(-1.5000)\n",
      "tensor(-0.3820)\n"
     ]
    }
   ],
   "source": [
    "a,b,c = 1,3,1\n",
    "\n",
    "f = lambda x: (a*x**2 + b*x + c)\n",
    "g = lambda x: 2*a*x + b\n",
    "\n",
    "f1 = lambda x: (a*x**2 + b*x + c)**2\n",
    "g1 = lambda x: 2*(a*x**2 + b*x + c)\n",
    "\n",
    "x = np.arange(-10, 10, 0.1)\n",
    "plt.figure(figsize=[10,10])\n",
    "\n",
    "\n",
    "plt.plot(x, [f(i) for i in x], color='blue', alpha=.6, linewidth=2, label=f'{a}x**2 + {b}x + {c}')\n",
    "plt.plot(x, [g(i) for i in x], color='blue', alpha=.6, linewidth=2, linestyle=f'dashed', label='2*{a}x + {b}')\n",
    "plt.plot(x, [f1(i) for i in x], color='magenta', alpha=.6, linewidth=2, label=f'({a}x**2 + {b}x + c)**2')\n",
    "plt.plot(x, [g1(i) for i in x], color='magenta', alpha=.6, linewidth=2, linestyle='dashed', label=f'2*({a}x**2 + {b}x + {c})')\n",
    "\n",
    "plt.plot(x, [0 for _ in x], color='gray', alpha=.4)\n",
    "plt.plot([0 for _ in x], x, color='gray', alpha=.4)\n",
    "plt.xlim([-10,10])\n",
    "plt.ylim([-10,10])\n",
    "plt.grid(axis='both') \n",
    "plt.legend()\n",
    "plt.show()\n",
    "\n",
    "def solver(init_x, g):\n",
    "    x = torch.tensor(init_x, dtype=torch.float32)\n",
    "    grad = g(x)\n",
    "    optim = Adam(x, 0.01)\n",
    "    for i in range(2000):\n",
    "        optim.step(grad)\n",
    "        grad = g(optim.model)\n",
    "    print(optim.model)\n",
    "    \n",
    "solver(6, g) # находит x-экстремума основной функции\n",
    "solver(6, g1) # находит один из корней"
   ]
  },
  {
   "cell_type": "markdown",
   "metadata": {},
   "source": [
    "т.к. 2 корня равноудалены от центра параболы, то их значения равны x(экстремума) +- расстояние до любого из них"
   ]
  },
  {
   "cell_type": "code",
   "execution_count": 9,
   "metadata": {},
   "outputs": [
    {
     "name": "stdout",
     "output_type": "stream",
     "text": [
      "корни уравнения - x1≈-2.618 x2≈-0.3820000000000001\n"
     ]
    }
   ],
   "source": [
    "extrem_x = -1.5\n",
    "diff = abs(extrem_x - (-0.3820))\n",
    "first_root = extrem_x - diff\n",
    "second_root = extrem_x + diff\n",
    "print(f'корни уравнения - x1≈{first_root} x2≈{second_root}')"
   ]
  },
  {
   "cell_type": "code",
   "execution_count": null,
   "metadata": {},
   "outputs": [],
   "source": []
  }
 ],
 "metadata": {
  "kernelspec": {
   "display_name": "Python 3",
   "language": "python",
   "name": "python3"
  },
  "language_info": {
   "codemirror_mode": {
    "name": "ipython",
    "version": 3
   },
   "file_extension": ".py",
   "mimetype": "text/x-python",
   "name": "python",
   "nbconvert_exporter": "python",
   "pygments_lexer": "ipython3",
   "version": "3.8.3"
  }
 },
 "nbformat": 4,
 "nbformat_minor": 4
}
